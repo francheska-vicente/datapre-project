{
 "cells": [
  {
   "cell_type": "markdown",
   "id": "27ab57bf",
   "metadata": {},
   "source": [
    "# Progress of the Philippines' Sustainable Development Goals\n",
    "In 2015, the United Nations General Assembly created 17 interlinked global goals that was intended to be achieved by 2030. It was said that it would pave the way to \"a better and more sustainable future for all\". The interlinked global goals was named the **Sustainable Development Goals** (SDG).\n",
    "\n",
    "In this notebook, 27 different datasets from the Philippine Statistics Authority, the government agency assigned to update the Philippine's data on this goals, would be combined. Fifteen (15) of these datasets are directly about the SDG, while others are indirectly connected to the SDGs."
   ]
  },
  {
   "cell_type": "markdown",
   "id": "70548d45",
   "metadata": {},
   "source": [
    "### Import\n",
    "Import `os`, `math`, `numpy`, `pandas`, `matplotlib.pyplot`, `seaborn`, and `zscore`.\n",
    "- `os` is a module that allows the usage of operating system dependent functionality\n",
    "- `numpy` contains a large collection of mathematical functions\n",
    "- `pandas` is a software library for Python that is designed for data manipulation and data analysis\n",
    "- `matplotlib.pyp|lot` contains functions to create interactive plots\n",
    "- `seaborn` is a library based on matplotlib that allows visualization\n",
    "- `zscore` allows the computation of the zscore"
   ]
  },
  {
   "cell_type": "code",
   "execution_count": null,
   "id": "eecc5361",
   "metadata": {},
   "outputs": [],
   "source": [
    "import os\n",
    "import math\n",
    "import pandas as pd\n",
    "import numpy as np\n",
    "import matplotlib.pyplot as plt\n",
    "import seaborn as sns\n",
    "\n",
    "from scipy.stats import zscore"
   ]
  },
  {
   "cell_type": "markdown",
   "id": "5c50f53b",
   "metadata": {},
   "source": [
    "## Loading of the Datasets"
   ]
  },
  {
   "cell_type": "markdown",
   "id": "7fd885da",
   "metadata": {},
   "source": [
    "## Exploratory Data Analysis\n",
    "With the combined dataset, there is a substantial amount of raw data to process and analyze. Before performing any statistical analysis, it is good practice to do exploratory data analysis to observe patterns and detect any outliers in the dataset. With this, we can properly identify particular relationships between specific variables.\n",
    "\n",
    "As this dataset aims to check the progress of the Sustainable Development Goals of the Philippines, we would be exploring the data per indicator."
   ]
  },
  {
   "cell_type": "markdown",
   "id": "42f78c7a",
   "metadata": {},
   "source": []
  }
 ],
 "metadata": {
  "kernelspec": {
   "display_name": "Python 3",
   "language": "python",
   "name": "python3"
  },
  "language_info": {
   "codemirror_mode": {
    "name": "ipython",
    "version": 3
   },
   "file_extension": ".py",
   "mimetype": "text/x-python",
   "name": "python",
   "nbconvert_exporter": "python",
   "pygments_lexer": "ipython3",
   "version": "3.8.8"
  }
 },
 "nbformat": 4,
 "nbformat_minor": 5
}
