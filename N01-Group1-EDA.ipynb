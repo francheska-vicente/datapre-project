{
 "cells": [
  {
   "cell_type": "markdown",
   "id": "3692574e",
   "metadata": {},
   "source": [
    "# Progress of the Philippines' Sustainable Development Goals\n",
    "In 2015, the United Nations General Assembly created 17 interlinked global goals that was intended to be achieved by 2030. It was said that it would pave the way to \"a better and more sustainable future for all\". The interlinked global goals was named the **Sustainable Development Goals** (SDG).\n",
    "\n",
    "In this notebook, 27 different datasets from the Philippine Statistics Authority, the government agency assigned to update the Philippine's data on this goals, would be combined. Fifteen (15) of these datasets are directly about the SDG, while others are indirectly connected to the SDGs."
   ]
  },
  {
   "cell_type": "markdown",
   "id": "ebb9c5a1",
   "metadata": {},
   "source": [
    "### Import\n",
    "Import `os`, `math`, `numpy`, `pandas`, `matplotlib.pyplot`, `seaborn`, and `zscore`.\n",
    "- `os` is a module that allows the usage of operating system dependent functionality\n",
    "- `numpy` contains a large collection of mathematical functions\n",
    "- `pandas` is a software library for Python that is designed for data manipulation and data analysis\n",
    "- `matplotlib.pyplot` contains functions to create interactive plots\n",
    "- `seaborn` is a library based on matplotlib that allows visualization\n",
    "- `zscore` allows the computation of the zscore"
   ]
  },
  {
   "cell_type": "code",
   "execution_count": null,
   "id": "b3ce37ee",
   "metadata": {},
   "outputs": [],
   "source": [
    "import os\n",
    "import math\n",
    "import pandas as pd\n",
    "import numpy as np\n",
    "import matplotlib.pyplot as plt\n",
    "import seaborn as sns\n",
    "\n",
    "from scipy.stats import zscore"
   ]
  },
  {
   "cell_type": "markdown",
   "id": "55794828",
   "metadata": {},
   "source": [
    "## Exploratory Data Analysis\n",
    "With the combined dataset, there is a substantial amount of raw data to process and analyze. Before performing any statistical analysis, it is good practice to do exploratory data analysis to observe patterns and detect any outliers in the dataset. With this, we can properly identify particular relationships between specific variables.\n",
    "\n",
    "As this dataset aims to check the progress of the Sustainable Development Goals of the Philippines, we would be exploring the data per indicator."
   ]
  },
  {
   "cell_type": "markdown",
   "id": "746f27dd",
   "metadata": {},
   "source": [
    "### SDG #1: No Poverty"
   ]
  },
  {
   "cell_type": "code",
   "execution_count": null,
   "id": "55218952",
   "metadata": {},
   "outputs": [],
   "source": []
  },
  {
   "cell_type": "markdown",
   "id": "63b9f264",
   "metadata": {},
   "source": [
    "### SDG #3: Good Health and Well-Being"
   ]
  },
  {
   "cell_type": "code",
   "execution_count": null,
   "id": "00ac6ff0",
   "metadata": {},
   "outputs": [],
   "source": []
  },
  {
   "cell_type": "markdown",
   "id": "c54f27be",
   "metadata": {},
   "source": [
    "### SDG #4: Quality Education"
   ]
  },
  {
   "cell_type": "code",
   "execution_count": null,
   "id": "042e23a2",
   "metadata": {},
   "outputs": [],
   "source": []
  },
  {
   "cell_type": "markdown",
   "id": "55b9456e",
   "metadata": {},
   "source": [
    "### SDG #7: Affordable and Clean Energy"
   ]
  },
  {
   "cell_type": "code",
   "execution_count": null,
   "id": "97a337ec",
   "metadata": {},
   "outputs": [],
   "source": []
  },
  {
   "cell_type": "markdown",
   "id": "0ba55300",
   "metadata": {},
   "source": [
    "### SDG #8: Decent Work and Economic Growth"
   ]
  },
  {
   "cell_type": "code",
   "execution_count": null,
   "id": "8d9781cc",
   "metadata": {},
   "outputs": [],
   "source": []
  },
  {
   "cell_type": "markdown",
   "id": "0cdd2cb6",
   "metadata": {},
   "source": [
    "### SDG #10: Reduced Inequalities"
   ]
  },
  {
   "cell_type": "code",
   "execution_count": null,
   "id": "0624541c",
   "metadata": {},
   "outputs": [],
   "source": []
  },
  {
   "cell_type": "markdown",
   "id": "36a63806",
   "metadata": {},
   "source": [
    "### SDG #14: Life Below Water"
   ]
  },
  {
   "cell_type": "code",
   "execution_count": null,
   "id": "bbf27ea0",
   "metadata": {},
   "outputs": [],
   "source": []
  },
  {
   "cell_type": "markdown",
   "id": "40aecbc8",
   "metadata": {},
   "source": [
    "### SDG #16: Peace, Justice and Strong Institutions"
   ]
  },
  {
   "cell_type": "code",
   "execution_count": null,
   "id": "68bc6349",
   "metadata": {},
   "outputs": [],
   "source": []
  },
  {
   "cell_type": "markdown",
   "id": "ff0d7bff",
   "metadata": {},
   "source": [
    "### Exploring all of the Datasets"
   ]
  },
  {
   "cell_type": "code",
   "execution_count": null,
   "id": "3ab894dc",
   "metadata": {},
   "outputs": [],
   "source": []
  },
  {
   "cell_type": "markdown",
   "id": "8e6420e1",
   "metadata": {},
   "source": [
    "## References"
   ]
  }
 ],
 "metadata": {
  "kernelspec": {
   "display_name": "Python 3",
   "language": "python",
   "name": "python3"
  },
  "language_info": {
   "codemirror_mode": {
    "name": "ipython",
    "version": 3
   },
   "file_extension": ".py",
   "mimetype": "text/x-python",
   "name": "python",
   "nbconvert_exporter": "python",
   "pygments_lexer": "ipython3",
   "version": "3.8.8"
  }
 },
 "nbformat": 4,
 "nbformat_minor": 5
}
